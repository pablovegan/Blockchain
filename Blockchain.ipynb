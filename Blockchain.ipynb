{
 "cells": [
  {
   "cell_type": "markdown",
   "metadata": {},
   "source": [
    "# QUANTUM  BLOCKCHAIN\n",
    "\n",
    "We begin, as usual, importing the libraries and functions we will use."
   ]
  },
  {
   "cell_type": "code",
   "execution_count": 1,
   "metadata": {},
   "outputs": [],
   "source": [
    "from os.path import join\n",
    "\n",
    "import pandas as pd\n",
    "import numpy as np\n",
    "\n",
    "from qiskit_textbook.widgets import plot_bloch_vector_spherical\n",
    "\n",
    "from quantumchain import Node, Blockchain\n",
    "\n",
    "import warnings\n",
    "warnings.filterwarnings(\"ignore\")"
   ]
  },
  {
   "cell_type": "markdown",
   "metadata": {},
   "source": [
    "To use a real Quantum Computer we need to load our IBM account"
   ]
  },
  {
   "cell_type": "code",
   "execution_count": 2,
   "metadata": {},
   "outputs": [],
   "source": [
    "# IBMQ.save_account('Add Token')\n",
    "# provider = IBMQ.enable_account('1605b7aa60a8259f4385b612193f560d6ff53d50ab1f962d7de8aebf518c479eed1526450dc556743b10968b87b3ff0c7b12ed45cb1ed3af93dab37823dc455e')\n",
    "# IBMQ.load_account()\n",
    "# IBMQ.disable_account()"
   ]
  },
  {
   "cell_type": "code",
   "execution_count": 3,
   "metadata": {},
   "outputs": [],
   "source": [
    "# device = provider.get_backend('ibmq_manila')"
   ]
  },
  {
   "cell_type": "markdown",
   "metadata": {},
   "source": [
    "# Creating a first blockchain\n",
    "\n",
    "With just one command, defining one python object, we can setup our first blockchain... indeed, a Quantum Blockchain! When the object initializes, nodes folders containing transactions and blocks are created from an initialize folder (also created from scratch). When creating a blockchain we can pass in some parameters, like number of nodes, number of transactions per block and the length of some random sequences used in the algorithm (created using entangled quantum circuits). "
   ]
  },
  {
   "cell_type": "code",
   "execution_count": 4,
   "metadata": {},
   "outputs": [],
   "source": [
    "# Quantum Blockchain with 6 nodes, 3 transactions per block and length 10 of random sequences\n",
    "QuantumChain = Blockchain(6,4,10)"
   ]
  },
  {
   "cell_type": "markdown",
   "metadata": {},
   "source": [
    "Adding transactions to the blockchain is easy. You can input them with arrays in the add_transactions method in the blockchain class. "
   ]
  },
  {
   "cell_type": "code",
   "execution_count": 5,
   "metadata": {},
   "outputs": [],
   "source": [
    "# Let's add our first transactions to the blockchain\n",
    "\n",
    "sending_node = [1,2,2,3,5,0,2]\n",
    "coins_sent = [2,3,1,3,3,5,1]\n",
    "receiving_node = [0,1,3,4,3,1,1]\n",
    "\n",
    "QuantumChain.add_transactions(sending_node, coins_sent, receiving_node)"
   ]
  },
  {
   "cell_type": "markdown",
   "metadata": {},
   "source": [
    "We can visualize the transactions file, for example, node 3 transaction file. Note that the sending node appears with negative coins and the receiving node with positive coins."
   ]
  },
  {
   "cell_type": "code",
   "execution_count": 6,
   "metadata": {},
   "outputs": [
    {
     "data": {
      "text/html": [
       "<div>\n",
       "<style scoped>\n",
       "    .dataframe tbody tr th:only-of-type {\n",
       "        vertical-align: middle;\n",
       "    }\n",
       "\n",
       "    .dataframe tbody tr th {\n",
       "        vertical-align: top;\n",
       "    }\n",
       "\n",
       "    .dataframe thead th {\n",
       "        text-align: right;\n",
       "    }\n",
       "</style>\n",
       "<table border=\"1\" class=\"dataframe\">\n",
       "  <thead>\n",
       "    <tr style=\"text-align: right;\">\n",
       "      <th></th>\n",
       "      <th>Node</th>\n",
       "      <th>Transaction 1</th>\n",
       "      <th>Transaction 2</th>\n",
       "      <th>Transaction 3</th>\n",
       "      <th>Transaction 4</th>\n",
       "      <th>Transaction 5</th>\n",
       "      <th>Transaction 6</th>\n",
       "      <th>Transaction 7</th>\n",
       "      <th>Transaction 8</th>\n",
       "      <th>Transaction 9</th>\n",
       "      <th>Transaction 10</th>\n",
       "      <th>Transaction 11</th>\n",
       "    </tr>\n",
       "  </thead>\n",
       "  <tbody>\n",
       "    <tr>\n",
       "      <th>0</th>\n",
       "      <td>0</td>\n",
       "      <td>20.0</td>\n",
       "      <td>0.0</td>\n",
       "      <td>0.0</td>\n",
       "      <td>0.0</td>\n",
       "      <td>2.0</td>\n",
       "      <td>0.0</td>\n",
       "      <td>0.0</td>\n",
       "      <td>0.0</td>\n",
       "      <td>0.0</td>\n",
       "      <td>-5.0</td>\n",
       "      <td>0.0</td>\n",
       "    </tr>\n",
       "    <tr>\n",
       "      <th>1</th>\n",
       "      <td>1</td>\n",
       "      <td>20.0</td>\n",
       "      <td>0.0</td>\n",
       "      <td>0.0</td>\n",
       "      <td>0.0</td>\n",
       "      <td>-2.0</td>\n",
       "      <td>3.0</td>\n",
       "      <td>0.0</td>\n",
       "      <td>0.0</td>\n",
       "      <td>0.0</td>\n",
       "      <td>5.0</td>\n",
       "      <td>1.0</td>\n",
       "    </tr>\n",
       "    <tr>\n",
       "      <th>2</th>\n",
       "      <td>2</td>\n",
       "      <td>20.0</td>\n",
       "      <td>0.0</td>\n",
       "      <td>0.0</td>\n",
       "      <td>0.0</td>\n",
       "      <td>0.0</td>\n",
       "      <td>-3.0</td>\n",
       "      <td>-1.0</td>\n",
       "      <td>0.0</td>\n",
       "      <td>0.0</td>\n",
       "      <td>0.0</td>\n",
       "      <td>-1.0</td>\n",
       "    </tr>\n",
       "    <tr>\n",
       "      <th>3</th>\n",
       "      <td>3</td>\n",
       "      <td>20.0</td>\n",
       "      <td>0.0</td>\n",
       "      <td>0.0</td>\n",
       "      <td>0.0</td>\n",
       "      <td>0.0</td>\n",
       "      <td>0.0</td>\n",
       "      <td>1.0</td>\n",
       "      <td>-3.0</td>\n",
       "      <td>3.0</td>\n",
       "      <td>0.0</td>\n",
       "      <td>0.0</td>\n",
       "    </tr>\n",
       "    <tr>\n",
       "      <th>4</th>\n",
       "      <td>4</td>\n",
       "      <td>20.0</td>\n",
       "      <td>0.0</td>\n",
       "      <td>0.0</td>\n",
       "      <td>0.0</td>\n",
       "      <td>0.0</td>\n",
       "      <td>0.0</td>\n",
       "      <td>0.0</td>\n",
       "      <td>3.0</td>\n",
       "      <td>0.0</td>\n",
       "      <td>0.0</td>\n",
       "      <td>0.0</td>\n",
       "    </tr>\n",
       "  </tbody>\n",
       "</table>\n",
       "</div>"
      ],
      "text/plain": [
       "   Node  Transaction 1  Transaction 2  Transaction 3  Transaction 4  \\\n",
       "0     0           20.0            0.0            0.0            0.0   \n",
       "1     1           20.0            0.0            0.0            0.0   \n",
       "2     2           20.0            0.0            0.0            0.0   \n",
       "3     3           20.0            0.0            0.0            0.0   \n",
       "4     4           20.0            0.0            0.0            0.0   \n",
       "\n",
       "   Transaction 5  Transaction 6  Transaction 7  Transaction 8  Transaction 9  \\\n",
       "0            2.0            0.0            0.0            0.0            0.0   \n",
       "1           -2.0            3.0            0.0            0.0            0.0   \n",
       "2            0.0           -3.0           -1.0            0.0            0.0   \n",
       "3            0.0            0.0            1.0           -3.0            3.0   \n",
       "4            0.0            0.0            0.0            3.0            0.0   \n",
       "\n",
       "   Transaction 10  Transaction 11  \n",
       "0            -5.0             0.0  \n",
       "1             5.0             1.0  \n",
       "2             0.0            -1.0  \n",
       "3             0.0             0.0  \n",
       "4             0.0             0.0  "
      ]
     },
     "execution_count": 6,
     "metadata": {},
     "output_type": "execute_result"
    }
   ],
   "source": [
    "transaction = pd.read_csv(join('Data', 'Node3','transactions.csv'))\n",
    "transaction.head()"
   ]
  },
  {
   "cell_type": "markdown",
   "metadata": {},
   "source": [
    "If a node tries to send coins without enough funds in the wallet then an **_Exception Error_** is risen. The same thing happens if a node tries to send coins to itself."
   ]
  },
  {
   "cell_type": "code",
   "execution_count": null,
   "metadata": {},
   "outputs": [],
   "source": [
    "# QuantumChain.add_transactions([1], [1000], [2])  # Throws error: Not enough funds"
   ]
  },
  {
   "cell_type": "markdown",
   "metadata": {},
   "source": [
    "We can also visualize the data in the blockchain. For example, lets see block number 2 of node 4. We see that each block stores the old wallet data, a random number given by each node, the transactions, the payment for solving the previous block, the new wallet and the fidelity table."
   ]
  },
  {
   "cell_type": "code",
   "execution_count": 9,
   "metadata": {},
   "outputs": [
    {
     "data": {
      "text/html": [
       "<div>\n",
       "<style scoped>\n",
       "    .dataframe tbody tr th:only-of-type {\n",
       "        vertical-align: middle;\n",
       "    }\n",
       "\n",
       "    .dataframe tbody tr th {\n",
       "        vertical-align: top;\n",
       "    }\n",
       "\n",
       "    .dataframe thead th {\n",
       "        text-align: right;\n",
       "    }\n",
       "</style>\n",
       "<table border=\"1\" class=\"dataframe\">\n",
       "  <thead>\n",
       "    <tr style=\"text-align: right;\">\n",
       "      <th></th>\n",
       "      <th>Node</th>\n",
       "      <th>Old Wallet</th>\n",
       "      <th>Random number</th>\n",
       "      <th>Transaction 5</th>\n",
       "      <th>Transaction 6</th>\n",
       "      <th>Transaction 7</th>\n",
       "      <th>Transaction 8</th>\n",
       "      <th>Payment</th>\n",
       "      <th>Wallet</th>\n",
       "      <th>prev_fidelity 0</th>\n",
       "      <th>prev_fidelity 1</th>\n",
       "      <th>prev_fidelity 2</th>\n",
       "      <th>prev_fidelity 3</th>\n",
       "      <th>prev_fidelity 4</th>\n",
       "      <th>prev_fidelity 5</th>\n",
       "    </tr>\n",
       "  </thead>\n",
       "  <tbody>\n",
       "    <tr>\n",
       "      <th>0</th>\n",
       "      <td>0</td>\n",
       "      <td>20.0</td>\n",
       "      <td>110101010</td>\n",
       "      <td>2.0</td>\n",
       "      <td>0.0</td>\n",
       "      <td>0.0</td>\n",
       "      <td>0.0</td>\n",
       "      <td>0.6</td>\n",
       "      <td>22.6</td>\n",
       "      <td>0.387050</td>\n",
       "      <td>0.055097</td>\n",
       "      <td>0.038933</td>\n",
       "      <td>0.986150</td>\n",
       "      <td>0.981896</td>\n",
       "      <td>0.055839</td>\n",
       "    </tr>\n",
       "    <tr>\n",
       "      <th>1</th>\n",
       "      <td>1</td>\n",
       "      <td>20.0</td>\n",
       "      <td>1101110011</td>\n",
       "      <td>-2.0</td>\n",
       "      <td>3.0</td>\n",
       "      <td>0.0</td>\n",
       "      <td>0.0</td>\n",
       "      <td>0.6</td>\n",
       "      <td>21.6</td>\n",
       "      <td>0.769738</td>\n",
       "      <td>0.427888</td>\n",
       "      <td>0.029513</td>\n",
       "      <td>0.622818</td>\n",
       "      <td>0.181068</td>\n",
       "      <td>0.783469</td>\n",
       "    </tr>\n",
       "    <tr>\n",
       "      <th>2</th>\n",
       "      <td>2</td>\n",
       "      <td>20.0</td>\n",
       "      <td>1111001001</td>\n",
       "      <td>0.0</td>\n",
       "      <td>-3.0</td>\n",
       "      <td>-1.0</td>\n",
       "      <td>0.0</td>\n",
       "      <td>0.2</td>\n",
       "      <td>16.2</td>\n",
       "      <td>0.049251</td>\n",
       "      <td>0.247441</td>\n",
       "      <td>0.330318</td>\n",
       "      <td>0.025530</td>\n",
       "      <td>0.987710</td>\n",
       "      <td>0.070559</td>\n",
       "    </tr>\n",
       "    <tr>\n",
       "      <th>3</th>\n",
       "      <td>3</td>\n",
       "      <td>20.0</td>\n",
       "      <td>110001011</td>\n",
       "      <td>0.0</td>\n",
       "      <td>0.0</td>\n",
       "      <td>1.0</td>\n",
       "      <td>-3.0</td>\n",
       "      <td>0.2</td>\n",
       "      <td>18.2</td>\n",
       "      <td>0.451155</td>\n",
       "      <td>0.693841</td>\n",
       "      <td>0.441661</td>\n",
       "      <td>0.248755</td>\n",
       "      <td>0.644863</td>\n",
       "      <td>0.245573</td>\n",
       "    </tr>\n",
       "    <tr>\n",
       "      <th>4</th>\n",
       "      <td>4</td>\n",
       "      <td>20.0</td>\n",
       "      <td>110111001</td>\n",
       "      <td>0.0</td>\n",
       "      <td>0.0</td>\n",
       "      <td>0.0</td>\n",
       "      <td>3.0</td>\n",
       "      <td>0.2</td>\n",
       "      <td>23.2</td>\n",
       "      <td>0.668661</td>\n",
       "      <td>0.057879</td>\n",
       "      <td>0.333009</td>\n",
       "      <td>0.873111</td>\n",
       "      <td>0.161272</td>\n",
       "      <td>0.153116</td>\n",
       "    </tr>\n",
       "  </tbody>\n",
       "</table>\n",
       "</div>"
      ],
      "text/plain": [
       "   Node  Old Wallet  Random number  Transaction 5  Transaction 6  \\\n",
       "0     0        20.0      110101010            2.0            0.0   \n",
       "1     1        20.0     1101110011           -2.0            3.0   \n",
       "2     2        20.0     1111001001            0.0           -3.0   \n",
       "3     3        20.0      110001011            0.0            0.0   \n",
       "4     4        20.0      110111001            0.0            0.0   \n",
       "\n",
       "   Transaction 7  Transaction 8  Payment  Wallet  prev_fidelity 0  \\\n",
       "0            0.0            0.0      0.6    22.6         0.387050   \n",
       "1            0.0            0.0      0.6    21.6         0.769738   \n",
       "2           -1.0            0.0      0.2    16.2         0.049251   \n",
       "3            1.0           -3.0      0.2    18.2         0.451155   \n",
       "4            0.0            3.0      0.2    23.2         0.668661   \n",
       "\n",
       "   prev_fidelity 1  prev_fidelity 2  prev_fidelity 3  prev_fidelity 4  \\\n",
       "0         0.055097         0.038933         0.986150         0.981896   \n",
       "1         0.427888         0.029513         0.622818         0.181068   \n",
       "2         0.247441         0.330318         0.025530         0.987710   \n",
       "3         0.693841         0.441661         0.248755         0.644863   \n",
       "4         0.057879         0.333009         0.873111         0.161272   \n",
       "\n",
       "   prev_fidelity 5  \n",
       "0         0.055839  \n",
       "1         0.783469  \n",
       "2         0.070559  \n",
       "3         0.245573  \n",
       "4         0.153116  "
      ]
     },
     "execution_count": 9,
     "metadata": {},
     "output_type": "execute_result"
    }
   ],
   "source": [
    "# node4 = Quantum_Blockchain.node_list[4]\n",
    "block = pd.read_csv(join('Data', 'Node4', 'Blocks', 'block2.csv'))\n",
    "block.head()"
   ]
  },
  {
   "cell_type": "markdown",
   "metadata": {},
   "source": [
    "When transactions feel a block, nodes create a hash for each block, which then is converted to a Quantum State that is teleported (using Quantum teleportation protocol) to the rest of the nodes. The nodes compare the fidelities of their block states and the states of the rest of the nodes. Let's visualize the Qubit obtained by hashing node4 second block."
   ]
  },
  {
   "cell_type": "code",
   "execution_count": 11,
   "metadata": {},
   "outputs": [
    {
     "name": "stdout",
     "output_type": "stream",
     "text": [
      "Hashed block state:  [3.3974508352631716, 2.1119624251281195]\n"
     ]
    }
   ],
   "source": [
    "node4 = QuantumChain.node_list[4]\n",
    "block_path = join('Data', 'Node4','Blocks','block2.csv')\n",
    "\n",
    "hash_angles = node4.state_parameters(block_path)\n",
    "print('Hashed block state: ', hash_angles)"
   ]
  },
  {
   "cell_type": "markdown",
   "metadata": {},
   "source": [
    "Because this is a Hash, you should verify that everytime it's called, it retrieves the same angles (for the same document). Let's now represent it in Bloch Sphere:"
   ]
  },
  {
   "cell_type": "code",
   "execution_count": null,
   "metadata": {},
   "outputs": [
    {
     "ename": "",
     "evalue": "",
     "output_type": "error",
     "traceback": [
      "\u001b[1;31mNo se pudo iniciar el Kernel. \n",
      "\u001b[1;31mNo se puede iniciar Kernel 'QC_env (Python 3.10.4)' porque se agotó el tiempo de espera de la conexión. \n",
      "\u001b[1;31mVea el [registro] de Jupyter (command:jupyter.viewOutput) para obtener más detalles."
     ]
    }
   ],
   "source": [
    "# We add last coordinate (radial) as 1\n",
    "qubit_vector = hash_angles + [1]\n",
    "plot_bloch_vector_spherical(qubit_vector)"
   ]
  },
  {
   "cell_type": "markdown",
   "metadata": {},
   "source": [
    "As we said, this state is then sent throgh a Quantum Channel using a Quantum Teleportation Protocol, which uses entangled states to share a Qubit. This is done with the method _send_states_."
   ]
  },
  {
   "cell_type": "code",
   "execution_count": null,
   "metadata": {},
   "outputs": [
    {
     "ename": "",
     "evalue": "",
     "output_type": "error",
     "traceback": [
      "\u001b[1;31mNo se pudo iniciar el Kernel. \n",
      "\u001b[1;31mNo se puede iniciar Kernel 'QC_env (Python 3.10.4)' porque se agotó el tiempo de espera de la conexión. \n",
      "\u001b[1;31mVea el [registro] de Jupyter (command:jupyter.viewOutput) para obtener más detalles."
     ]
    }
   ],
   "source": [
    "Quantum_Blockchain.send_states(hash_angles)"
   ]
  },
  {
   "cell_type": "markdown",
   "metadata": {},
   "source": [
    "Which is the same as the input vector. This can be verify builing the circuit that rotates $|0\\rangle$ by angles $\\theta$ and $\\phi$ in hash_angles"
   ]
  },
  {
   "cell_type": "code",
   "execution_count": null,
   "metadata": {},
   "outputs": [
    {
     "ename": "",
     "evalue": "",
     "output_type": "error",
     "traceback": [
      "\u001b[1;31mNo se pudo iniciar el Kernel. \n",
      "\u001b[1;31mNo se puede iniciar Kernel 'QC_env (Python 3.10.4)' porque se agotó el tiempo de espera de la conexión. \n",
      "\u001b[1;31mVea el [registro] de Jupyter (command:jupyter.viewOutput) para obtener más detalles."
     ]
    }
   ],
   "source": [
    "# Circuit to rotate |0>\n",
    "state_circ = QuantumCircuit(1)\n",
    "state_circ.u(hash_angles[0], hash_angles[1],0,0)\n",
    "        \n",
    "state_circ.draw('mpl')"
   ]
  },
  {
   "cell_type": "code",
   "execution_count": null,
   "metadata": {},
   "outputs": [
    {
     "ename": "",
     "evalue": "",
     "output_type": "error",
     "traceback": [
      "\u001b[1;31mNo se pudo iniciar el Kernel. \n",
      "\u001b[1;31mNo se puede iniciar Kernel 'QC_env (Python 3.10.4)' porque se agotó el tiempo de espera de la conexión. \n",
      "\u001b[1;31mVea el [registro] de Jupyter (command:jupyter.viewOutput) para obtener más detalles."
     ]
    }
   ],
   "source": [
    "# Get final state after passing |0> throught the circuit\n",
    "\n",
    "backend = Aer.get_backend('qasm_simulator')\n",
    "state_circ.save_statevector()\n",
    "qobj = assemble(state_circ)     # Create a Qobj from the circuit for the simulator to run\n",
    "\n",
    "result = backend.run(qobj).result() \n",
    "result.get_statevector()"
   ]
  },
  {
   "cell_type": "markdown",
   "metadata": {},
   "source": [
    "Once the states are sent, each node calculates the fidelities. They should all agree in the fidelities table! We can visualize the last fidelity table obtained by node 0."
   ]
  },
  {
   "cell_type": "code",
   "execution_count": null,
   "metadata": {},
   "outputs": [
    {
     "ename": "",
     "evalue": "",
     "output_type": "error",
     "traceback": [
      "\u001b[1;31mNo se pudo iniciar el Kernel. \n",
      "\u001b[1;31mNo se puede iniciar Kernel 'QC_env (Python 3.10.4)' porque se agotó el tiempo de espera de la conexión. \n",
      "\u001b[1;31mVea el [registro] de Jupyter (command:jupyter.viewOutput) para obtener más detalles."
     ]
    }
   ],
   "source": [
    "fidelity = pd.read_csv(os.path.join('Node0','fidelity.csv'))\n",
    "fidelity.head()"
   ]
  },
  {
   "cell_type": "markdown",
   "metadata": {},
   "source": [
    "Fidelities are obtained projecting the sent qubit to the node's own qubit state. Of course, in reality this is done with many copies of the same vectors and calculating the probabilities to measure one in the others basis. It is then important that we know how to build this states in a unique way. This is done with the _sha256_block_ and _state_parameters_ method of the node class."
   ]
  },
  {
   "cell_type": "markdown",
   "metadata": {},
   "source": [
    "With the blockchain class, we can generate sequences of random numbers using a Quantum Circuit:"
   ]
  },
  {
   "cell_type": "code",
   "execution_count": null,
   "metadata": {},
   "outputs": [
    {
     "ename": "",
     "evalue": "",
     "output_type": "error",
     "traceback": [
      "\u001b[1;31mNo se pudo iniciar el Kernel. \n",
      "\u001b[1;31mNo se puede iniciar Kernel 'QC_env (Python 3.10.4)' porque se agotó el tiempo de espera de la conexión. \n",
      "\u001b[1;31mVea el [registro] de Jupyter (command:jupyter.viewOutput) para obtener más detalles."
     ]
    }
   ],
   "source": [
    "Quantum_Blockchain.random_numbers()"
   ]
  },
  {
   "cell_type": "markdown",
   "metadata": {},
   "source": [
    "This is done using the following circuit and measuring multiple times in each qubit, in order to obtain a sequence of (in this case) 6 random numbers of 10 digits (measuring 10 times)"
   ]
  },
  {
   "cell_type": "markdown",
   "metadata": {},
   "source": [
    "## Play with the blockchain!\n",
    "\n",
    "Once we have seen the basics of this blockchain, we invite you to investigate the functions and discover by yourself how it works!"
   ]
  },
  {
   "cell_type": "code",
   "execution_count": null,
   "metadata": {},
   "outputs": [
    {
     "ename": "",
     "evalue": "",
     "output_type": "error",
     "traceback": [
      "\u001b[1;31mNo se pudo iniciar el Kernel. \n",
      "\u001b[1;31mNo se puede iniciar Kernel 'QC_env (Python 3.10.4)' porque se agotó el tiempo de espera de la conexión. \n",
      "\u001b[1;31mVea el [registro] de Jupyter (command:jupyter.viewOutput) para obtener más detalles."
     ]
    }
   ],
   "source": [
    "# Your code"
   ]
  }
 ],
 "metadata": {
  "kernelspec": {
   "display_name": "Python 3.10.4 ('QC_env')",
   "language": "python",
   "name": "python3"
  },
  "language_info": {
   "codemirror_mode": {
    "name": "ipython",
    "version": 3
   },
   "file_extension": ".py",
   "mimetype": "text/x-python",
   "name": "python",
   "nbconvert_exporter": "python",
   "pygments_lexer": "ipython3",
   "version": "3.10.4"
  },
  "vscode": {
   "interpreter": {
    "hash": "a7013974fffeed3b051300295b1503215c2ff339c4a5745dabd6db85632ac1be"
   }
  }
 },
 "nbformat": 4,
 "nbformat_minor": 2
}
